{
 "cells": [
  {
   "cell_type": "markdown",
   "id": "ee4a3f0f",
   "metadata": {},
   "source": [
    "# Modulo que recolhe dados pessoais de uma PEP na Wikipedia"
   ]
  },
  {
   "cell_type": "code",
   "execution_count": 2,
   "id": "edca588a",
   "metadata": {},
   "outputs": [
    {
     "data": {
      "text/plain": [
       "True"
      ]
     },
     "execution_count": 2,
     "metadata": {},
     "output_type": "execute_result"
    }
   ],
   "source": [
    "import pandas as pd\n",
    "import os, sys, django\n",
    "import dotenv, wikipedia\n",
    "from bs4 import BeautifulSoup\n",
    "wikipedia.set_lang(\"pt\")\n",
    "\n",
    "BASE_DIR = os.path.abspath(os.path.join(os.getcwd(), \"..\", \"..\"))\n",
    "sys.path.append(BASE_DIR)\n",
    "os.environ.setdefault(\"DJANGO_SETTINGS_MODULE\", \"tcc.settings\")\n",
    "django.setup()\n",
    "dotenv.load_dotenv()"
   ]
  },
  {
   "cell_type": "code",
   "execution_count": 9,
   "id": "eae80bad",
   "metadata": {},
   "outputs": [
    {
     "name": "stdout",
     "output_type": "stream",
     "text": [
      "['Marisa Letícia', 'Rosângela Silva']\n",
      "['27 de outubro', '1945', 'Garanhuns', 'Pernambuco', 'Brasil']\n",
      "['Marcos Cláudio', 'Fábio Luís']\n",
      "['Eurídice Ferreira de Melo']\n"
     ]
    }
   ],
   "source": [
    "try:\n",
    "    p = wikipedia.page(title=\"luiz inácio lula da silva\")\n",
    "except Exception as e:\n",
    "    print(e)\n",
    "\n",
    "def find_personal_info(property: str, page: wikipedia.page):\n",
    "    soup = BeautifulSoup(page.html(), 'html.parser')\n",
    "    infobox = soup.find('table', {'class': 'infobox'})\n",
    "    results = []\n",
    "    \n",
    "    for tr in infobox.find_all('tr'):\n",
    "        th = tr.find('th')\n",
    "        td = tr.find('td')\n",
    "        if th and td:\n",
    "            if property.lower() in th.get_text().lower():\n",
    "                match property.lower():\n",
    "                    case 'cônjuge' | 'progenitores' | 'filhos(as)':\n",
    "                        for element in td.find_all('a'):\n",
    "                            results.append(element.get_text(\" \", strip=True))\n",
    "                    case 'nascimento':\n",
    "                        for element in td.find_all('a'):\n",
    "                            if element.has_attr(\"title\"):\n",
    "                                results.append(element['title'])\n",
    "                    case _:\n",
    "                        continue\n",
    "    return results\n",
    "\n",
    "print(find_personal_info(\"Cônjuge\", p))\n",
    "nascimento = find_personal_info(\"Nascimento\", p)\n",
    "print(find_personal_info(\"Nascimento\", p))\n",
    "print(find_personal_info(\"Filhos(as)\", p))\n",
    "print(find_personal_info(\"Progenitores\", p))"
   ]
  },
  {
   "cell_type": "code",
   "execution_count": null,
   "id": "f40445a0",
   "metadata": {},
   "outputs": [],
   "source": [
    "# csv_path = os.path.join(BASE_DIR, 'pipelines', 'data', '202507_PEP.csv')\n",
    "# if os.path.exists(csv_path):\n",
    "# \tdf_politicos = pd.read_csv(csv_path, encoding='latin1', dtype=str, on_bad_lines='warn', sep=';').fillna('')\n",
    "# else:\n",
    "# \tprint(f\"Arquivo não encontrado: {csv_path}\")"
   ]
  },
  {
   "cell_type": "code",
   "execution_count": null,
   "id": "e4dbda5f",
   "metadata": {},
   "outputs": [],
   "source": [
    "# df_politicos.head()"
   ]
  },
  {
   "cell_type": "code",
   "execution_count": null,
   "id": "ad2bb7e7",
   "metadata": {},
   "outputs": [],
   "source": [
    "# df_politicos.insert(len(df_politicos.columns),'', '')"
   ]
  },
  {
   "cell_type": "code",
   "execution_count": null,
   "id": "849245e0",
   "metadata": {},
   "outputs": [],
   "source": [
    "# df_politicos"
   ]
  },
  {
   "cell_type": "code",
   "execution_count": null,
   "id": "c594bdc7",
   "metadata": {},
   "outputs": [],
   "source": []
  }
 ],
 "metadata": {
  "kernelspec": {
   "display_name": "envtcc",
   "language": "python",
   "name": "python3"
  },
  "language_info": {
   "codemirror_mode": {
    "name": "ipython",
    "version": 3
   },
   "file_extension": ".py",
   "mimetype": "text/x-python",
   "name": "python",
   "nbconvert_exporter": "python",
   "pygments_lexer": "ipython3",
   "version": "3.13.5"
  }
 },
 "nbformat": 4,
 "nbformat_minor": 5
}
