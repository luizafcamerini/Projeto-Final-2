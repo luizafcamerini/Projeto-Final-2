{
 "cells": [
  {
   "cell_type": "markdown",
   "id": "ee4a3f0f",
   "metadata": {},
   "source": [
    "# Modulo que recolhe dados pessoais de uma PEP na Wikipedia"
   ]
  },
  {
   "cell_type": "code",
   "execution_count": null,
   "id": "edca588a",
   "metadata": {},
   "outputs": [],
   "source": [
    "import pandas as pd\n",
    "import os, sys, django\n",
    "import dotenv, wikipedia\n",
    "from bs4 import BeautifulSoup\n",
    "wikipedia.set_lang(\"pt\")\n",
    "\n",
    "BASE_DIR = os.path.abspath(os.path.join(os.getcwd(), \"..\", \"..\"))\n",
    "sys.path.append(BASE_DIR)\n",
    "os.environ.setdefault(\"DJANGO_SETTINGS_MODULE\", \"tcc.settings\")\n",
    "django.setup()\n",
    "dotenv.load_dotenv()"
   ]
  },
  {
   "cell_type": "code",
   "execution_count": null,
   "id": "eae80bad",
   "metadata": {},
   "outputs": [],
   "source": [
    "def find_personal_info(property: str, page: wikipedia.page):\n",
    "    soup = BeautifulSoup(page.html(), 'html.parser')\n",
    "    infobox = soup.find('table', {'class': 'infobox'})\n",
    "    results = []\n",
    "    if infobox:\n",
    "        for tr in infobox.find_all('tr'):\n",
    "            th = tr.find('th')\n",
    "            td = tr.find('td')\n",
    "            if th and td:\n",
    "                if property.lower() in th.get_text().lower():\n",
    "                    match property.lower():\n",
    "                        case 'cônjuge' | 'progenitores' | 'filhos(as)':\n",
    "                            for element in td.find_all('a'):\n",
    "                                results.append(element.get_text(\" \", strip=True).upper())\n",
    "                        case 'nascimento':\n",
    "                            for element in td.find_all('a'):\n",
    "                                if element.has_attr(\"title\"):\n",
    "                                    results.append(element['title'].upper())\n",
    "                        case _:\n",
    "                            continue\n",
    "    return results"
   ]
  }
 ],
 "metadata": {
  "kernelspec": {
   "display_name": "envtcc",
   "language": "python",
   "name": "python3"
  },
  "language_info": {
   "codemirror_mode": {
    "name": "ipython",
    "version": 3
   },
   "file_extension": ".py",
   "mimetype": "text/x-python",
   "name": "python",
   "nbconvert_exporter": "python",
   "pygments_lexer": "ipython3",
   "version": "3.13.5"
  }
 },
 "nbformat": 4,
 "nbformat_minor": 5
}
