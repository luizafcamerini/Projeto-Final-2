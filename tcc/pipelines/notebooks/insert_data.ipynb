{
 "cells": [
  {
   "cell_type": "markdown",
   "id": "2227a02b",
   "metadata": {},
   "source": [
    "# Script para a inserção das entidades PEPs no banco\n"
   ]
  },
  {
   "cell_type": "code",
   "execution_count": null,
   "id": "da801f7f",
   "metadata": {},
   "outputs": [],
   "source": [
    "import pandas as pd\n",
    "import os, sys, django, neomodel, dotenv, wikipedia\n",
    "from datetime import datetime\n",
    "\n",
    "BASE_DIR = os.path.abspath(os.path.join(os.getcwd(), \"..\", \"..\"))\n",
    "sys.path.append(BASE_DIR)\n",
    "os.environ.setdefault(\"DJANGO_SETTINGS_MODULE\", \"tcc.settings\")\n",
    "django.setup()\n",
    "dotenv.load_dotenv()\n",
    "\n",
    "from myapi.models import Pessoa, Organizacao, Cargo"
   ]
  },
  {
   "cell_type": "code",
   "execution_count": null,
   "id": "ea28d0f2",
   "metadata": {},
   "outputs": [],
   "source": [
    "%run wiki_data.ipynb"
   ]
  },
  {
   "cell_type": "code",
   "execution_count": null,
   "id": "b89c216f",
   "metadata": {},
   "outputs": [],
   "source": [
    "def insere_pep(nome, cpf, nascimento, cnpj) -> Pessoa:\n",
    "    try:\n",
    "        pep = Pessoa(nome=nome, \n",
    "                     cpf=cpf, \n",
    "                     data_nascimento=pd.to_datetime(nascimento, format='%d/%m/%Y', errors='coerce'), \n",
    "                     cnpj=cnpj).save()\n",
    "        print(f'Pessoa {nome} inserida com sucesso.')\n",
    "        return pep\n",
    "    except Exception as e:\n",
    "        print(f\"Erro ao inserir PEP: {e}\")\n",
    "    return None\n",
    "\n",
    "def insere_organizacao(nome, cnpj) -> Organizacao:\n",
    "    try:\n",
    "        org = Organizacao(nome=nome, cnpj=cnpj).save()\n",
    "        print(f'Organização {nome} inserida com sucesso.')\n",
    "        return org\n",
    "    except Exception as e:\n",
    "        print(f\"Erro ao inserir organização: {e}\")\n",
    "    return None\n",
    "\n",
    "def insere_cargo(nome) -> Cargo:\n",
    "    try:\n",
    "        cargo = Cargo(nome=nome).save()\n",
    "        print(f'Cargo {nome} inserido com sucesso.')\n",
    "        return cargo\n",
    "    except Exception as e:\n",
    "        print(f\"Erro ao inserir cargo: {e}\")\n",
    "    return None\n",
    "\n",
    "def relaciona_cargo_pessoa_organizacao(cargo: Cargo, pessoa: Pessoa, org:Organizacao, papel, inicio, fim) -> None:\n",
    "    try:\n",
    "        pessoa.cargo.connect(cargo, {'papel': papel,\n",
    "                                    'data_inicio': pd.to_datetime(inicio, format='%d/%m/%Y', errors='coerce'), \n",
    "                                    'data_fim': pd.to_datetime(fim, format='%d/%m/%Y', errors='coerce') if not pd.isna(fim) else None,\n",
    "                                    'grau_precisao': 5})\n",
    "        cargo.pertence.connect(org)\n",
    "        print(f'Relação entre {pessoa.nome}, {cargo.nome} e {org.nome} criada com sucesso.')\n",
    "    except Exception as e:\n",
    "        print(f\"Erro ao criar relação: {e}\")\n",
    "        return"
   ]
  },
  {
   "cell_type": "code",
   "execution_count": null,
   "id": "2b039dfb",
   "metadata": {},
   "outputs": [],
   "source": [
    "csv_path = os.path.join(BASE_DIR, 'pipelines', 'data', '202507_PEP.csv')\n",
    "if os.path.exists(csv_path):\n",
    "\tdf = pd.read_csv(csv_path, encoding='latin1', dtype=str, on_bad_lines='warn', sep=';').fillna('')\n",
    "else:\n",
    "\tprint(f\"Arquivo não encontrado: {csv_path}\")"
   ]
  },
  {
   "cell_type": "code",
   "execution_count": null,
   "id": "da900038",
   "metadata": {},
   "outputs": [],
   "source": [
    "for index, row in df.iterrows():\n",
    "    nome = row['Nome_PEP']\n",
    "    cpf = row['CPF']\n",
    "    cnpj = None\n",
    "    org_nome = row['Nome_Órgão']\n",
    "    org_cnpj = None\n",
    "    cargo_nome = row['Descrição_Função']\n",
    "    inicio = row['Data_Início_Exercício']\n",
    "    fim = row['Data_Fim_Exercício']\n",
    "    try:\n",
    "        pagina_wiki = wikipedia.page(title=nome)\n",
    "    except Exception as e:\n",
    "        print(e)\n",
    "        continue\n",
    "\n",
    "    try:\n",
    "        pessoa = Pessoa.nodes.get(nome=nome, cpf=cpf)\n",
    "    except neomodel.DoesNotExist as e:\n",
    "        pessoa = insere_pep(nome, cpf, nascimento, cnpj)\n",
    "\n",
    "    try:\n",
    "        org = Organizacao.nodes.get(nome=org_nome)\n",
    "    except neomodel.DoesNotExist as e:\n",
    "        org = insere_organizacao(org_nome, org_cnpj)\n",
    "\n",
    "    try:\n",
    "        cargo = Cargo.nodes.get(nome=cargo_nome)\n",
    "    except neomodel.DoesNotExist as e:\n",
    "        cargo = insere_cargo(cargo_nome)\n",
    "\n",
    "    if pessoa != None and org != None and cargo != None:\n",
    "        relaciona_cargo_pessoa_organizacao(cargo, pessoa, org, papel=cargo_nome, inicio=inicio, fim=fim)\n",
    "    \n",
    "    conjuge = find_personal_info('Côjunge',pagina_wiki)\n",
    "    filhos = find_personal_info('Filhos(as)',pagina_wiki)\n",
    "    nascimento = find_personal_info('Nascimento',pagina_wiki)\n",
    "    data_nascimento = nascimento[0] + ' de ' + nascimento[1]\n",
    "    data_nascimento = datetime.strptime(data_nascimento, \"%d de %B de %Y\")\n",
    "    progenitores = find_personal_info('Progenitores',pagina_wiki)"
   ]
  },
  {
   "cell_type": "code",
   "execution_count": null,
   "id": "fa37a1e4",
   "metadata": {},
   "outputs": [],
   "source": []
  }
 ],
 "metadata": {
  "kernelspec": {
   "display_name": "envtcc",
   "language": "python",
   "name": "python3"
  },
  "language_info": {
   "codemirror_mode": {
    "name": "ipython",
    "version": 3
   },
   "file_extension": ".py",
   "mimetype": "text/x-python",
   "name": "python",
   "nbconvert_exporter": "python",
   "pygments_lexer": "ipython3",
   "version": "3.13.5"
  }
 },
 "nbformat": 4,
 "nbformat_minor": 5
}
