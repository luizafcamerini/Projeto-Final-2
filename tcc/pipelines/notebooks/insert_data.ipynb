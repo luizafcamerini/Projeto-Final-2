{
 "cells": [
  {
   "cell_type": "markdown",
   "id": "2227a02b",
   "metadata": {},
   "source": [
    "# Script para a inserção das entidades PEPs no banco\n"
   ]
  },
  {
   "cell_type": "code",
   "execution_count": 2,
   "id": "da801f7f",
   "metadata": {},
   "outputs": [],
   "source": [
    "import pandas as pd\n",
    "import os, sys, django, neomodel, dotenv, wikipedia\n",
    "from datetime import datetime\n",
    "import locale\n",
    "from bs4 import BeautifulSoup\n",
    "# from wiki import Wiki\n",
    "# from database_manager import DatabaseManager\n",
    "locale.setlocale(locale.LC_TIME, \"pt_BR.UTF-8\")\n",
    "\n",
    "BASE_DIR = os.path.abspath(os.path.join(os.getcwd(), \"..\", \"..\"))\n",
    "sys.path.append(BASE_DIR)\n",
    "os.environ.setdefault(\"DJANGO_SETTINGS_MODULE\", \"tcc.settings\")\n",
    "django.setup()\n",
    "dotenv.load_dotenv()\n",
    "\n",
    "from myapi.models import Pessoa, Organizacao"
   ]
  },
  {
   "cell_type": "code",
   "execution_count": 3,
   "id": "95fe2f15",
   "metadata": {},
   "outputs": [],
   "source": [
    "wikipedia.set_lang(\"pt\")\n",
    "pagina_wiki = wikipedia.page(title='jair bolsonaro')"
   ]
  },
  {
   "cell_type": "code",
   "execution_count": 4,
   "id": "68a8c670",
   "metadata": {},
   "outputs": [
    {
     "data": {
      "text/plain": [
       "<table class=\"infobox vcard\" style=\"width:22em;\"><tbody><tr><th class=\"infobox-above infobox-above\" colspan=\"2\" style=\"font-size:100%;\"><span><div class=\"fn\" style=\"font-size:125%;\">Jair Bolsonaro</div></span></th></tr><tr><td class=\"infobox-image\" colspan=\"2\"><span typeof=\"mw:File\"><a class=\"mw-file-description\" href=\"/wiki/Ficheiro:Jair_Bolsonaro_2019_Portrait_(3x4_cropped_center).jpg\"><img class=\"mw-file-element\" data-file-height=\"2158\" data-file-width=\"1666\" decoding=\"async\" height=\"337\" src=\"//upload.wikimedia.org/wikipedia/commons/thumb/3/37/Jair_Bolsonaro_2019_Portrait_%283x4_cropped_center%29.jpg/330px-Jair_Bolsonaro_2019_Portrait_%283x4_cropped_center%29.jpg\" srcset=\"//upload.wikimedia.org/wikipedia/commons/thumb/3/37/Jair_Bolsonaro_2019_Portrait_%283x4_cropped_center%29.jpg/500px-Jair_Bolsonaro_2019_Portrait_%283x4_cropped_center%29.jpg 1.5x, //upload.wikimedia.org/wikipedia/commons/thumb/3/37/Jair_Bolsonaro_2019_Portrait_%283x4_cropped_center%29.jpg/960px-Jair_Bolsonaro_2019_Portrait_%283x4_cropped_center%29.jpg 2x\" width=\"260\"/></a></span><div class=\"infobox-caption\">Jair Bolsonaro em 2019<sup class=\"reference\" id=\"cite_ref-1\"><a href=\"#cite_note-1\"><span class=\"cite-bracket\">[</span>nota 1<span class=\"cite-bracket\">]</span></a></sup></div></td></tr><tr><th class=\"infobox-header\" colspan=\"2\" style=\"color: #202122; background:lavender; line-height:normal; padding:0.2em;\"><a href=\"/wiki/Lista_de_presidentes_do_Brasil\" title=\"Lista de presidentes do Brasil\">38</a>.º <a href=\"/wiki/Presidente_do_Brasil\" title=\"Presidente do Brasil\">Presidente do Brasil</a></th></tr><tr><th class=\"infobox-label\" scope=\"row\">Período</th><td class=\"infobox-data\">1.º de janeiro de 2019 <br/>a 1.º de janeiro de 2023</td></tr><tr><th class=\"infobox-label\" scope=\"row\">Vice-presidente</th><td class=\"infobox-data\"><a href=\"/wiki/Hamilton_Mour%C3%A3o\" title=\"Hamilton Mourão\">Hamilton Mourão</a></td></tr><tr><th class=\"infobox-label\" scope=\"row\">Antecessor(a)</th><td class=\"infobox-data\"><a href=\"/wiki/Michel_Temer\" title=\"Michel Temer\">Michel Temer</a></td></tr><tr><th class=\"infobox-label\" scope=\"row\">Sucessor(a)</th><td class=\"infobox-data\"><a href=\"/wiki/Luiz_In%C3%A1cio_Lula_da_Silva\" title=\"Luiz Inácio Lula da Silva\">Luiz Inácio Lula da Silva</a></td></tr><tr><th class=\"infobox-header\" colspan=\"2\" style=\"color: #202122; background:lavender; line-height:normal; padding:0.2em;\"><a href=\"/wiki/C%C3%A2mara_dos_Deputados_do_Brasil\" title=\"Câmara dos Deputados do Brasil\">Deputado Federal</a> pelo <a href=\"/wiki/Rio_de_Janeiro_(estado)\" title=\"Rio de Janeiro (estado)\">Rio de Janeiro</a></th></tr><tr><th class=\"infobox-label\" scope=\"row\">Período</th><td class=\"infobox-data\">1° de fevereiro de 1991 <br/>a 1° de janeiro de 2019</td></tr><tr><th class=\"infobox-header\" colspan=\"2\" style=\"color: #202122; background:lavender; line-height:normal; padding:0.2em;\"><a href=\"/wiki/C%C3%A2mara_Municipal_do_Rio_de_Janeiro\" title=\"Câmara Municipal do Rio de Janeiro\">Vereador</a> do <a href=\"/wiki/Rio_de_Janeiro\" title=\"Rio de Janeiro\">Rio de Janeiro</a></th></tr><tr><th class=\"infobox-label\" scope=\"row\">Período</th><td class=\"infobox-data\">1.º de janeiro de 1989 <br/>a 1.º de fevereiro de 1991</td></tr><tr><th class=\"infobox-header\" colspan=\"2\" style=\"color: #202122; background:lavender; line-height:normal; padding:0.2em;\">Dados pessoais</th></tr><tr><th class=\"infobox-label\" scope=\"row\">Nome completo</th><td class=\"infobox-data\">Jair Messias Bolsonaro</td></tr><tr><th class=\"infobox-label\" scope=\"row\">Nascimento</th><td class=\"infobox-data\"><a href=\"/wiki/21_de_mar%C3%A7o#Nascimentos\" title=\"21 de março\">21 de março</a> de <a href=\"/wiki/1955\" title=\"1955\">1955</a> (70 anos) <br/><a href=\"/wiki/Glic%C3%A9rio_(S%C3%A3o_Paulo)\" title=\"Glicério (São Paulo)\">Glicério</a>, <a href=\"/wiki/S%C3%A3o_Paulo_(estado)\" title=\"São Paulo (estado)\">São Paulo</a></td></tr><tr><th class=\"infobox-label\" scope=\"row\">Nacionalidade</th><td class=\"infobox-data\"><a href=\"/wiki/Brasileiros\" title=\"Brasileiros\">brasileiro</a></td></tr><tr><th class=\"infobox-label\" scope=\"row\"><i><a href=\"/wiki/Alma_mater\" title=\"Alma mater\">Alma mater</a></i></th><td class=\"infobox-data\"><a href=\"/wiki/Academia_Militar_das_Agulhas_Negras\" title=\"Academia Militar das Agulhas Negras\">Academia Militar das Agulhas Negras</a></td></tr><tr><th class=\"infobox-label\" scope=\"row\">Prêmio(s)</th><td class=\"infobox-data\"><a href=\"/wiki/Ordem_do_M%C3%A9rito_Militar\" title=\"Ordem do Mérito Militar\">Ordem do Mérito Militar</a><sup class=\"reference\" id=\"cite_ref-OMM_2-0\"><a href=\"#cite_note-OMM-2\"><span class=\"cite-bracket\">[</span>1<span class=\"cite-bracket\">]</span></a></sup></td></tr><tr><th class=\"infobox-label\" scope=\"row\">Cônjuge</th><td class=\"infobox-data\">Rogéria Nantes <span style=\"font-size:85%;\">(<span style=\"cursor: help; border-bottom: 1px dotted;\" title=\"casamento\">c.</span> 1978; <abbr title=\"divórcio\">div.</abbr> 1997)</span><br/>Ana Cristina Valle <span style=\"font-size:85%;\">(<span style=\"cursor: help; border-bottom: 1px dotted;\" title=\"casamento\">c.</span> 1997; <abbr title=\"divórcio\">div.</abbr> 2007)</span><br/><a href=\"/wiki/Michelle_Bolsonaro\" title=\"Michelle Bolsonaro\">Michelle Bolsonaro</a> <span style=\"font-size:85%;\">(<span style=\"cursor: help; border-bottom: 1px dotted;\" title=\"casamento\">c.</span> 2007)</span></td></tr><tr><th class=\"infobox-label\" scope=\"row\">Filhos(as)</th><td class=\"infobox-data\"><a href=\"/wiki/Fl%C3%A1vio_Bolsonaro\" title=\"Flávio Bolsonaro\">Flávio</a> <b>·</b> <a href=\"/wiki/Carlos_Bolsonaro\" title=\"Carlos Bolsonaro\">Carlos</a> <b>·</b> <a href=\"/wiki/Eduardo_Bolsonaro\" title=\"Eduardo Bolsonaro\">Eduardo</a> <b>·</b> <a href=\"/wiki/Jair_Renan_Bolsonaro\" title=\"Jair Renan Bolsonaro\">Renan</a> <b>·</b>  Laura</td></tr><tr><th class=\"infobox-label\" scope=\"row\">Partido</th><td class=\"infobox-data\"><a href=\"/wiki/Partido_Liberal_(2006)\" title=\"Partido Liberal (2006)\">PL</a> <span style=\"font-size:85%;\">(2021–presente)</span><div class=\"collapsible-list mw-collapsible mw-collapsed\" style=\"text-align: left;\">\n",
       "<div style=\"line-height: 1.6em; font-weight: bold;\"><div>Lista</div></div>\n",
       "<ul class=\"mw-collapsible-content\" style=\"margin-top: 0; margin-bottom: 0; line-height: inherit; list-style: none; margin-left: 0;\"><li style=\"line-height: inherit; margin: 0\"><a href=\"/wiki/Partido_Democrata_Crist%C3%A3o_(1985)\" title=\"Partido Democrata Cristão (1985)\">PDC</a> <span style=\"font-size:85%;\">(1988–1993)</span><br/><a href=\"/wiki/Partido_Progressista_(1993)\" title=\"Partido Progressista (1993)\">PP</a> <span style=\"font-size:85%;\">(1993)</span><br/><a href=\"/wiki/Partido_Progressista_Reformador\" title=\"Partido Progressista Reformador\">PPR</a> <span style=\"font-size:85%;\">(1993–1995)</span><br/><a href=\"/wiki/Progressistas\" title=\"Progressistas\">PPB</a> <span style=\"font-size:85%;\">(1995–2003)</span><br/><a href=\"/wiki/Partido_Trabalhista_Brasileiro_(1979)\" title=\"Partido Trabalhista Brasileiro (1979)\">PTB</a> <span style=\"font-size:85%;\">(2003–2004)</span><br/><a href=\"/wiki/Democratas_(Brasil)\" title=\"Democratas (Brasil)\">PFL</a> <span style=\"font-size:85%;\">(2004–2005)</span><br/><a href=\"/wiki/Progressistas\" title=\"Progressistas\">PP</a> <span style=\"font-size:85%;\">(2005–2016)</span><br/><a href=\"/wiki/Partido_Social_Crist%C3%A3o\" title=\"Partido Social Cristão\">PSC</a> <span style=\"font-size:85%;\">(2016–2018)</span><br/><a href=\"/wiki/Partido_Social_Liberal\" title=\"Partido Social Liberal\">PSL</a> <span style=\"font-size:85%;\">(2018–2019)</span><br/><a href=\"/wiki/Pol%C3%ADtico_sem_partido\" title=\"Político sem partido\">Sem partido</a> <span style=\"font-size:85%;\">(2019–2021)</span></li></ul>\n",
       "</div></td></tr><tr><th class=\"infobox-label\" scope=\"row\">Religião</th><td class=\"infobox-data\"><a class=\"mw-redirect\" href=\"/wiki/Cat%C3%B3lico\" title=\"Católico\">católico</a><sup class=\"reference\" id=\"cite_ref-5\"><a href=\"#cite_note-5\"><span class=\"cite-bracket\">[</span>nota 2<span class=\"cite-bracket\">]</span></a></sup></td></tr><tr><th class=\"infobox-label\" scope=\"row\">Profissão</th><td class=\"infobox-data\"><a href=\"/wiki/Militar\" title=\"Militar\">militar</a> e <a href=\"/wiki/Pol%C3%ADtico\" title=\"Político\">político</a></td></tr><tr><th class=\"infobox-label\" scope=\"row\">Assinatura</th><td class=\"infobox-data\"><span class=\"skin-invert\" typeof=\"mw:File\"><a class=\"mw-file-description\" href=\"/wiki/Ficheiro:Signature_of_Jair_Bolsonaro.svg\" title=\"Assinatura de Jair Bolsonaro\"><img alt=\"Assinatura de Jair Bolsonaro\" class=\"mw-file-element\" data-file-height=\"346\" data-file-width=\"799\" decoding=\"async\" height=\"55\" src=\"//upload.wikimedia.org/wikipedia/commons/thumb/3/38/Signature_of_Jair_Bolsonaro.svg/250px-Signature_of_Jair_Bolsonaro.svg.png\" srcset=\"//upload.wikimedia.org/wikipedia/commons/thumb/3/38/Signature_of_Jair_Bolsonaro.svg/330px-Signature_of_Jair_Bolsonaro.svg.png 2x\" width=\"128\"/></a></span></td></tr><tr><th class=\"infobox-header\" colspan=\"2\" style=\"color: #202122; background:lavender; line-height:normal; padding:0.2em;\">Serviço militar</th></tr><tr><th class=\"infobox-label\" scope=\"row\">Lealdade</th><td class=\"infobox-data\"><span class=\"flagicon\"><span class=\"mw-image-border\" typeof=\"mw:File\"><span><img alt=\"\" class=\"mw-file-element\" data-file-height=\"700\" data-file-width=\"1000\" decoding=\"async\" height=\"15\" src=\"//upload.wikimedia.org/wikipedia/commons/thumb/0/05/Flag_of_Brazil.svg/40px-Flag_of_Brazil.svg.png\" srcset=\"//upload.wikimedia.org/wikipedia/commons/thumb/0/05/Flag_of_Brazil.svg/60px-Flag_of_Brazil.svg.png 2x\" width=\"22\"/></span></span> </span><a href=\"/wiki/Brasil\" title=\"Brasil\">Brasil</a></td></tr><tr><th class=\"infobox-label\" scope=\"row\">Serviço/ramo</th><td class=\"infobox-data\"><span style=\"white-space:nowrap;\"><span typeof=\"mw:File\"><a class=\"mw-file-description\" href=\"/wiki/Ficheiro:Coat_of_arms_of_the_Brazilian_Army.svg\" title=\"Brasão do Exército Brasileiro\"><img alt=\"Brasão do Exército Brasileiro\" class=\"mw-file-element\" data-file-height=\"861\" data-file-width=\"500\" decoding=\"async\" height=\"34\" src=\"//upload.wikimedia.org/wikipedia/commons/thumb/a/aa/Coat_of_arms_of_the_Brazilian_Army.svg/20px-Coat_of_arms_of_the_Brazilian_Army.svg.png\" srcset=\"//upload.wikimedia.org/wikipedia/commons/thumb/a/aa/Coat_of_arms_of_the_Brazilian_Army.svg/40px-Coat_of_arms_of_the_Brazilian_Army.svg.png 1.5x\" width=\"20\"/></a></span> <a href=\"/wiki/Ex%C3%A9rcito_Brasileiro\" title=\"Exército Brasileiro\">Exército Brasileiro</a></span></td></tr><tr><th class=\"infobox-label\" scope=\"row\">Anos de serviço</th><td class=\"infobox-data\">1973–1988<sup class=\"reference\" id=\"cite_ref-6\"><a href=\"#cite_note-6\"><span class=\"cite-bracket\">[</span>4<span class=\"cite-bracket\">]</span></a></sup><sup class=\"reference\" id=\"cite_ref-7\"><a href=\"#cite_note-7\"><span class=\"cite-bracket\">[</span>5<span class=\"cite-bracket\">]</span></a></sup></td></tr><tr><th class=\"infobox-label\" scope=\"row\">Graduação</th><td class=\"infobox-data\"><span typeof=\"mw:File\"><a class=\"mw-file-description\" href=\"/wiki/Ficheiro:Capit%C3%A3o.png\"><img class=\"mw-file-element\" data-file-height=\"101\" data-file-width=\"211\" decoding=\"async\" height=\"12\" src=\"//upload.wikimedia.org/wikipedia/commons/thumb/a/a3/Capit%C3%A3o.png/40px-Capit%C3%A3o.png\" srcset=\"//upload.wikimedia.org/wikipedia/commons/thumb/a/a3/Capit%C3%A3o.png/60px-Capit%C3%A3o.png 2x\" width=\"25\"/></a></span> <a href=\"/wiki/Capit%C3%A3o\" title=\"Capitão\">Capitão</a></td></tr><tr><th class=\"infobox-label\" scope=\"row\">Unidade</th><td class=\"infobox-data\"><style data-mw-deduplicate=\"TemplateStyles:r69811353\">.mw-parser-output .plainlist ol,.mw-parser-output .plainlist ul{line-height:inherit;list-style:none;margin:0;padding:0}.mw-parser-output .plainlist ol li,.mw-parser-output .plainlist ul li{margin-bottom:0}</style><div class=\"plainlist\">\n",
       "<ul><li>21º Grupo de Artilharia de Campanha</li>\n",
       "<li>9.º Grupo de Artilharia de Campanha</li>\n",
       "<li>8º Grupo de Artilharia de Campanha Paraquedista</li></ul>\n",
       "</div></td></tr><tr><th class=\"infobox-label\" scope=\"row\">Condecorações</th><td class=\"infobox-data\"><a href=\"/wiki/Medalha_do_Pacificador\" title=\"Medalha do Pacificador\">Medalha do Pacificador com Palma</a> <small>(por \"Ato de Bravura\" em 1978)</small><sup class=\"reference\" id=\"cite_ref-8\"><a href=\"#cite_note-8\"><span class=\"cite-bracket\">[</span>6<span class=\"cite-bracket\">]</span></a></sup></td></tr><tr><td class=\"infobox-full-data\" colspan=\"2\"><style data-mw-deduplicate=\"TemplateStyles:r70757383\">.mw-parser-output .side-box{margin:4px 0;box-sizing:border-box;border:1px solid #aaa;font-size:88%;line-height:1.25em;background-color:var(--background-color-interactive-subtle,#f8f9fa);display:flow-root}.mw-parser-output .infobox .side-box{font-size:100%}.mw-parser-output .side-box-abovebelow,.mw-parser-output .side-box-text{padding:0.25em 0.9em}.mw-parser-output .side-box-image{padding:2px 0 2px 0.9em;text-align:center}.mw-parser-output .side-box-imageright{padding:2px 0.9em 2px 0;text-align:center}@media(min-width:500px){.mw-parser-output .side-box-flex{display:flex;align-items:center}.mw-parser-output .side-box-text{flex:1;min-width:0}}@media(min-width:640px){.mw-parser-output .side-box{width:238px}.mw-parser-output .side-box-right{clear:right;float:right;margin-left:1em}.mw-parser-output .side-box-left{margin-right:1em}}</style><style data-mw-deduplicate=\"TemplateStyles:r70261996\">.mw-parser-output .listen .side-box-text{line-height:1.1em}.mw-parser-output .listen-plain{border:none;background:transparent}.mw-parser-output .listen-embedded{width:100%;margin:0;border-width:1px 0 0 0;background:transparent}.mw-parser-output .listen-header{padding:2px}.mw-parser-output .listen-embedded .listen-header{padding:2px 0}.mw-parser-output .listen-file-header{padding:4px 0}.mw-parser-output .listen .description{padding-top:2px}.mw-parser-output .listen .mw-tmh-player{max-width:100%}@media(max-width:719px){.mw-parser-output .listen{clear:both}}@media(min-width:720px){.mw-parser-output .listen:not(.listen-noimage){width:320px}.mw-parser-output .listen-left{overflow:visible;float:left}.mw-parser-output .listen-center{float:none;margin-left:auto;margin-right:auto}}</style><div class=\"side-box side-box-left listen noprint listen-embedded listen-noimage\"><link href=\"mw-data:TemplateStyles:r69811353\" rel=\"mw-deduplicated-inline-style\"/>\n",
       "<div class=\"side-box-flex\">\n",
       "<div class=\"side-box-text plainlist\"><div class=\"haudio\">\n",
       "<div class=\"listen-file-header\"><a href=\"/wiki/Ficheiro:Pol%C3%ADtica_Entrevista_do_presidente_Jair_Bolsonaro.ogg\" title=\"Ficheiro:Política Entrevista do presidente Jair Bolsonaro.ogg\">Voz de Jair Bolsonaro</a></div>\n",
       "<div><span typeof=\"mw:File\"><span><audio class=\"mw-file-element\" controls=\"\" data-durationhint=\"32\" data-mw-tmh=\"\" data-mwprovider=\"wikimediacommons\" data-mwtitle=\"Política_Entrevista_do_presidente_Jair_Bolsonaro.ogg\" id=\"mwe_player_0\" preload=\"none\" style=\"width:215px;\" width=\"215\"><source data-height=\"0\" data-transcodekey=\"mp3\" data-width=\"0\" src=\"//upload.wikimedia.org/wikipedia/commons/transcoded/0/0c/Pol%C3%ADtica_Entrevista_do_presidente_Jair_Bolsonaro.ogg/Pol%C3%ADtica_Entrevista_do_presidente_Jair_Bolsonaro.ogg.mp3\" type=\"audio/mpeg\"/><source data-height=\"0\" data-width=\"0\" src=\"//upload.wikimedia.org/wikipedia/commons/0/0c/Pol%C3%ADtica_Entrevista_do_presidente_Jair_Bolsonaro.ogg\" type='audio/ogg; codecs=\"vorbis\"'/></audio></span></span></div>\n",
       "<div class=\"description\">Na <a href=\"/wiki/TV_Brasil\" title=\"TV Brasil\">TV Brasil</a><br/>Gravado em fevereiro de 2022</div></div></div></div>\n",
       "</div></td></tr></tbody></table>"
      ]
     },
     "execution_count": 4,
     "metadata": {},
     "output_type": "execute_result"
    }
   ],
   "source": [
    "soup = BeautifulSoup(pagina_wiki.html(), 'html.parser')\n",
    "infobox = soup.find('table', {'class': 'infobox'})\n",
    "infobox"
   ]
  },
  {
   "cell_type": "code",
   "execution_count": null,
   "id": "7c019d2a",
   "metadata": {},
   "outputs": [],
   "source": []
  }
 ],
 "metadata": {
  "kernelspec": {
   "display_name": "envtcc",
   "language": "python",
   "name": "python3"
  },
  "language_info": {
   "codemirror_mode": {
    "name": "ipython",
    "version": 3
   },
   "file_extension": ".py",
   "mimetype": "text/x-python",
   "name": "python",
   "nbconvert_exporter": "python",
   "pygments_lexer": "ipython3",
   "version": "3.13.5"
  }
 },
 "nbformat": 4,
 "nbformat_minor": 5
}
