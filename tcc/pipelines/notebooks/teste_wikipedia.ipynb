{
 "cells": [
  {
   "cell_type": "code",
   "execution_count": 1,
   "id": "edca588a",
   "metadata": {},
   "outputs": [
    {
     "data": {
      "text/plain": [
       "True"
      ]
     },
     "execution_count": 1,
     "metadata": {},
     "output_type": "execute_result"
    }
   ],
   "source": [
    "import pandas as pd\n",
    "import os, sys, django\n",
    "import dotenv, wikipedia\n",
    "from bs4 import BeautifulSoup\n",
    "wikipedia.set_lang(\"pt\")\n",
    "\n",
    "BASE_DIR = os.path.abspath(os.path.join(os.getcwd(), \"..\", \"..\"))\n",
    "sys.path.append(BASE_DIR)\n",
    "os.environ.setdefault(\"DJANGO_SETTINGS_MODULE\", \"tcc.settings\")\n",
    "django.setup()\n",
    "dotenv.load_dotenv()"
   ]
  },
  {
   "cell_type": "code",
   "execution_count": null,
   "id": "eae80bad",
   "metadata": {},
   "outputs": [
    {
     "name": "stdout",
     "output_type": "stream",
     "text": [
      "[]\n",
      "['21 de março', '1955', 'Glicério (São Paulo)', 'São Paulo (estado)']\n",
      "['Brasileiros']\n",
      "['Flávio Bolsonaro', 'Carlos Bolsonaro', 'Eduardo Bolsonaro', 'Jair Renan Bolsonaro']\n"
     ]
    }
   ],
   "source": [
    "try:\n",
    "    p = wikipedia.page(title=\"jair bolsonaro\")\n",
    "except Exception as e:\n",
    "    print(e)\n",
    "\n",
    "def find_personal_info(property: str, page: wikipedia.page):\n",
    "    soup = BeautifulSoup(page.html(), 'html.parser')\n",
    "    infobox = soup.find('table', {'class': 'infobox'})\n",
    "    \n",
    "    for tr in infobox.find_all('tr'):\n",
    "        th = tr.find('th')\n",
    "        td = tr.find('td')\n",
    "        if th and td:\n",
    "            if property.lower() in th.get_text().lower():\n",
    "                results = []\n",
    "                # percorre todos os filhos do td (links, spans, abbrs, etc.)\n",
    "                for element in td.find_all('a'):\n",
    "                    if element.has_attr(\"title\"):\n",
    "                        results.append(element['title'])\n",
    "                # se não achar nada com title, pega o texto puro\n",
    "                if not results:\n",
    "                    results = [td.get_text(\" \", strip=True)]\n",
    "                return results\n",
    "    return []\n",
    "\n",
    "print(find_personal_info(\"Cônjuge\", p))\n",
    "print(find_personal_info(\"Nascimento\", p))\n",
    "print(find_personal_info(\"Nacionalidade\", p))\n",
    "print(find_personal_info(\"Filhos(as)\", p))"
   ]
  },
  {
   "cell_type": "code",
   "execution_count": null,
   "id": "f40445a0",
   "metadata": {},
   "outputs": [],
   "source": [
    "csv_path = os.path.join(BASE_DIR, 'pipelines', 'data', '202507_PEP.csv')\n",
    "if os.path.exists(csv_path):\n",
    "\tdf = pd.read_csv(csv_path, encoding='latin1', dtype=str, on_bad_lines='warn', sep=';').fillna('')\n",
    "else:\n",
    "\tprint(f\"Arquivo não encontrado: {csv_path}\")"
   ]
  }
 ],
 "metadata": {
  "kernelspec": {
   "display_name": "envtcc",
   "language": "python",
   "name": "python3"
  },
  "language_info": {
   "codemirror_mode": {
    "name": "ipython",
    "version": 3
   },
   "file_extension": ".py",
   "mimetype": "text/x-python",
   "name": "python",
   "nbconvert_exporter": "python",
   "pygments_lexer": "ipython3",
   "version": "3.13.5"
  }
 },
 "nbformat": 4,
 "nbformat_minor": 5
}
