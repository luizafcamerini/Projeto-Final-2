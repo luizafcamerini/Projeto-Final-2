{
 "cells": [
  {
   "cell_type": "markdown",
   "id": "98f68138",
   "metadata": {},
   "source": [
    "# Teste para requerimento HTTP da API do Portal de Transparencia"
   ]
  },
  {
   "cell_type": "code",
   "execution_count": 12,
   "id": "20b503f3",
   "metadata": {},
   "outputs": [],
   "source": [
    "import os, sys, django, datetime, requests\n",
    "from django.apps import apps\n",
    "from dotenv import load_dotenv\n",
    "\n",
    "# Caminho até a raiz do projeto (do notebook, sobe 2 níveis)\n",
    "BASE_DIR = os.path.abspath(os.path.join(os.getcwd(), \"..\", \"..\"))\n",
    "sys.path.append(BASE_DIR)\n",
    "\n",
    "os.environ.setdefault(\"DJANGO_SETTINGS_MODULE\", \"tcc.settings\")\n",
    "if not apps.ready:\n",
    "\tdjango.setup()\n",
    "\n",
    "load_dotenv()\n",
    "\n",
    "HEADER_PORTAL = {\"chave-api-dados\":os.getenv(\"TOKEN_API_PORTAL_TRANSP\")}"
   ]
  },
  {
   "cell_type": "code",
   "execution_count": 13,
   "id": "a19c3752",
   "metadata": {},
   "outputs": [],
   "source": [
    "response = requests.get(headers=HEADER_PORTAL, url=\"https://api.portaldatransparencia.gov.br/api-de-dados/orgaos-siape\")"
   ]
  },
  {
   "cell_type": "code",
   "execution_count": 14,
   "id": "ec9d018a",
   "metadata": {},
   "outputs": [],
   "source": [
    "response.raise_for_status()"
   ]
  },
  {
   "cell_type": "code",
   "execution_count": 22,
   "id": "78d572eb",
   "metadata": {},
   "outputs": [
    {
     "data": {
      "text/plain": [
       "[{'codigo': '00001', 'descricao': 'IGNORADO - CONVERSAO DO SIPEFAZ'},\n",
       " {'codigo': '00005', 'descricao': 'Exc - Empresa Privada'},\n",
       " {'codigo': '00006', 'descricao': 'Exc - Empresas Públicas / CLT'},\n",
       " {'codigo': '00008', 'descricao': 'Exc - Entidades em Extinção / L.80'},\n",
       " {'codigo': '00009', 'descricao': 'Exc - Estados / Municípios / Outros'},\n",
       " {'codigo': '00010',\n",
       "  'descricao': 'Exc - Estatais do Ministério dos Transportes e Comunicação'},\n",
       " {'codigo': '00011', 'descricao': 'Exc - Estatais do Ministério da Fazenda'},\n",
       " {'codigo': '00012',\n",
       "  'descricao': 'Exc - Estatais do Ministério de Minas e Energia'},\n",
       " {'codigo': '00016',\n",
       "  'descricao': 'Exc - Justiça do Distrito Federal e Territórios'},\n",
       " {'codigo': '00017', 'descricao': 'Exc - Justiça do Trabalho'},\n",
       " {'codigo': '00018', 'descricao': 'Exc - Justiça Eleitoral'},\n",
       " {'codigo': '00019', 'descricao': 'Exc - Justiça Federal'},\n",
       " {'codigo': '00020', 'descricao': 'Exc - Justiça Militar'},\n",
       " {'codigo': '00025', 'descricao': 'Exc - Região Centro Oeste'},\n",
       " {'codigo': '00026', 'descricao': 'Exc - Região Nordeste'}]"
      ]
     },
     "execution_count": 22,
     "metadata": {},
     "output_type": "execute_result"
    }
   ],
   "source": [
    "response.json()"
   ]
  },
  {
   "cell_type": "code",
   "execution_count": null,
   "id": "b90e0bb8",
   "metadata": {},
   "outputs": [],
   "source": []
  }
 ],
 "metadata": {
  "kernelspec": {
   "display_name": "base",
   "language": "python",
   "name": "python3"
  },
  "language_info": {
   "codemirror_mode": {
    "name": "ipython",
    "version": 3
   },
   "file_extension": ".py",
   "mimetype": "text/x-python",
   "name": "python",
   "nbconvert_exporter": "python",
   "pygments_lexer": "ipython3",
   "version": "3.12.7"
  }
 },
 "nbformat": 4,
 "nbformat_minor": 5
}
